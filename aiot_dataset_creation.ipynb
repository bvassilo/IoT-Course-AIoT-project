{
 "cells": [
  {
   "cell_type": "markdown",
   "id": "feb87f6e",
   "metadata": {},
   "source": [
    "# MongoDB Handling\n",
    "\n",
    "After installing the MongoDB server in your machine, you can use this notebook for handling the initial processes with the database.\n",
    "\n",
    "Specifically, in this step, we utilize Python's `pymongo` library to exploit its capabilities for MongoDB server interaction.\n",
    "\n",
    "**Important Note: Be sure that the MongoDB server is up and running as a service in the background.**\n",
    "\n",
    "For example, in macOS, to run MongoDB (i.e. the mongod process) as a service, run:\n",
    "\n",
    "* `brew services start mongodb-community`\n",
    "\n",
    "To stop a mongod running as a macOS service, use the following command as needed:\n",
    "\n",
    "* `brew services stop mongodb-community`\n",
    "\n",
    "To install MongoDB in your system, follow the instructions here:\n",
    "\n",
    "* https://www.mongodb.com/docs/manual/administration/install-community/\n",
    "\n",
    "\n",
    "**Note:** You can modify any of the processes below, however, you have to explain your thoughts."
   ]
  },
  {
   "cell_type": "code",
   "execution_count": 1,
   "id": "5a192af2",
   "metadata": {},
   "outputs": [],
   "source": [
    "# import library for various processes with the OS\n",
    "import os"
   ]
  },
  {
   "cell_type": "markdown",
   "id": "c1a34708",
   "metadata": {},
   "source": [
    "## Load configuration"
   ]
  },
  {
   "cell_type": "code",
   "execution_count": 2,
   "id": "4e970c28",
   "metadata": {},
   "outputs": [],
   "source": [
    "# import library for yaml handling\n",
    "import yaml"
   ]
  },
  {
   "cell_type": "code",
   "execution_count": 3,
   "id": "bbb4f44b",
   "metadata": {},
   "outputs": [],
   "source": [
    "config_path = os.path.join(os.getcwd(), \"config.yml\")\n",
    "\n",
    "with open(config_path) as file:\n",
    "    config = yaml.load(file, Loader=yaml.FullLoader)"
   ]
  },
  {
   "cell_type": "markdown",
   "id": "65bac888",
   "metadata": {},
   "source": [
    "## MongoDB database instantiation\n",
    "\n",
    "The relevant information for the MongoDB client connection, the database name, and collection name is located in the configuration file.\n",
    "\n",
    "```\n",
    "# DB Connection with the uri (host)\n",
    "client: \"mongodb://localhost:27017/\"\n",
    "\n",
    "# db name\n",
    "db: \"aiot_course\"\n",
    "\n",
    "# db collection\n",
    "col: \"NAME YOUR COLLECTION\"\n",
    "```"
   ]
  },
  {
   "cell_type": "code",
   "execution_count": 4,
   "id": "f3cc2add",
   "metadata": {},
   "outputs": [],
   "source": [
    "# import library for hanlding the MongoDB client\n",
    "import pymongo\n",
    "# import library for retrieving datetime\n",
    "from datetime import datetime"
   ]
  },
  {
   "cell_type": "markdown",
   "id": "7dbbbe9f",
   "metadata": {},
   "source": [
    "### Create the database\n",
    "\n",
    "To create a database in MongoDB, start by creating a MongoClient object, then specify a connection URL with the correct ip address and the name of the database you want to create.\n",
    "\n",
    "MongoDB will create the database if it does not exist, and make a connection to it."
   ]
  },
  {
   "cell_type": "code",
   "execution_count": 5,
   "id": "bdbb888f",
   "metadata": {},
   "outputs": [],
   "source": [
    "client = pymongo.MongoClient(config[\"client\"])"
   ]
  },
  {
   "cell_type": "code",
   "execution_count": 6,
   "id": "203c2bc7",
   "metadata": {},
   "outputs": [],
   "source": [
    "db = client[config[\"db\"]]"
   ]
  },
  {
   "cell_type": "markdown",
   "id": "0772e744",
   "metadata": {},
   "source": [
    "### Instantiate the collection\n",
    "\n",
    "To create a collection in MongoDB, use database object and specify the name of the collection you want to create.\n",
    "\n",
    "MongoDB will create the collection if it does not exist."
   ]
  },
  {
   "cell_type": "code",
   "execution_count": 7,
   "id": "9937a0c8",
   "metadata": {},
   "outputs": [],
   "source": [
    "col = db[config[\"col\"]]"
   ]
  },
  {
   "cell_type": "markdown",
   "id": "2bcde222",
   "metadata": {},
   "source": [
    "Initially, no collection will be shown in MongoDB before you enter the first document!"
   ]
  },
  {
   "cell_type": "markdown",
   "id": "2b5cd593",
   "metadata": {},
   "source": [
    "## Create the data collection\n",
    "\n",
    "Uploading the gathered data to MongoDB collection. The data directory structure should be as follows:\n",
    "\n",
    "```\n",
    ".\n",
    "└── data/\n",
    "    ├── class_A/\n",
    "    │   ├── data_A_01.csv\n",
    "    │   ├── data_A_02.csv\n",
    "    │   └── ..\n",
    "    ├── class_B/\n",
    "    │   ├── data_B_01.csv\n",
    "    │   ├── data_B_02.csv\n",
    "    │   └── .\n",
    "    └── class ...\n",
    "```"
   ]
  },
  {
   "cell_type": "code",
   "execution_count": 8,
   "id": "622636fd",
   "metadata": {},
   "outputs": [],
   "source": [
    "# import library for hanlding the csv data and transformations\n",
    "import pandas as pd\n",
    "import json"
   ]
  },
  {
   "cell_type": "markdown",
   "id": "9532ede2",
   "metadata": {},
   "source": [
    "Get data path:"
   ]
  },
  {
   "cell_type": "code",
   "execution_count": 9,
   "id": "912f079f",
   "metadata": {},
   "outputs": [
    {
     "name": "stdout",
     "output_type": "stream",
     "text": [
      "c:\\Users\\Bill\\Desktop\\IoT-Course-AIoT-project\\data\n"
     ]
    }
   ],
   "source": [
    "data_path = os.path.join(os.getcwd(), \"data\")\n",
    "print(data_path)"
   ]
  },
  {
   "cell_type": "markdown",
   "id": "a981a220",
   "metadata": {},
   "source": [
    "List all files in a path:"
   ]
  },
  {
   "cell_type": "code",
   "execution_count": 10,
   "id": "fd476759",
   "metadata": {},
   "outputs": [
    {
     "name": "stdout",
     "output_type": "stream",
     "text": [
      "['Clockwise_Circle', 'Counter_Clockwise_Circle', 'Down', 'Left', 'Right', 'Up', 'Wrist_turn_left', 'Wrist_turn_right']\n"
     ]
    }
   ],
   "source": [
    "classes_folders_list = [f for f in os.listdir(data_path) if os.path.isdir(os.path.join(data_path, f))]\n",
    "print(classes_folders_list)"
   ]
  },
  {
   "cell_type": "code",
   "execution_count": 11,
   "id": "0e8075f6",
   "metadata": {},
   "outputs": [
    {
     "name": "stdout",
     "output_type": "stream",
     "text": [
      "['down_01.csv', 'down_02.csv', 'down_03.csv', 'down_04.csv', 'down_05.csv', 'down_06.csv', 'down_07.csv', 'down_08.csv', 'down_09.csv', 'down_10.csv']\n"
     ]
    }
   ],
   "source": [
    "# print files in folder\n",
    "folder_path = os.path.join(data_path, classes_folders_list[2])\n",
    "files_in_folder = [f for f in os.listdir(folder_path) if os.path.isfile(os.path.join(folder_path, f))]\n",
    "print(files_in_folder)"
   ]
  },
  {
   "cell_type": "markdown",
   "id": "c65d2961",
   "metadata": {},
   "source": [
    "Each document in the MongoDB database should have the following schema:\n",
    "\n",
    "```json\n",
    "{\n",
    "  \"data\": {\n",
    "    \"acc_x\": [\"array\", \"of\", \"values\"],\n",
    "    \"acc_y\": [\"array\", \"of\", \"values\"],\n",
    "    \"acc_z\": [\"array\", \"of\", \"values\"],\n",
    "  },\n",
    "  \"label\": \"The label of the instance\",\n",
    "  \"datetime\": \"MongoDB datetime object (it can be generated with the datetime.datetime.now() function\"\n",
    "}\n",
    "```\n",
    "\n",
    "Accordingly, if you are using gyroscope or both accelerometer and gyroscope, the following order and naming of the sensor keys should be defined:\n",
    "\n",
    "* for gyroscope: `gyr_x`, `gyr_y`, `gyr_z` for the three axes\n",
    "* for accelerometer and gyroscope: `acc_x`, `acc_y`, `acc_z`, `gyr_x`, `gyr_y`, `gyr_z` for the six axes\n",
    "\n",
    "**Note: Be careful, the document is mandatory to have the aforementioned schema, in order to argue and proceed with the rest of the processes later on, in data engineering, plotting, etc.**"
   ]
  },
  {
   "cell_type": "code",
   "execution_count": 12,
   "id": "4bc16310",
   "metadata": {},
   "outputs": [],
   "source": [
    "from utils import df_rebase"
   ]
  },
  {
   "cell_type": "markdown",
   "id": "115f2ae5",
   "metadata": {},
   "source": [
    "## Provide the code to upload the data to MongoDB"
   ]
  },
  {
   "cell_type": "code",
   "execution_count": 13,
   "id": "56c8d4e2",
   "metadata": {},
   "outputs": [
    {
     "name": "stdout",
     "output_type": "stream",
     "text": [
      "Files in Clockwise_Circle: ['clockwise_circle_01.csv', 'clockwise_circle_02.csv', 'clockwise_circle_03.csv', 'clockwise_circle_04.csv', 'clockwise_circle_05.csv', 'clockwise_circle_06.csv', 'clockwise_circle_07.csv', 'clockwise_circle_08.csv', 'clockwise_circle_09.csv', 'clockwise_circle_10.csv']\n",
      "Processing file: c:\\Users\\Bill\\Desktop\\IoT-Course-AIoT-project\\data\\Clockwise_Circle\\clockwise_circle_01.csv\n",
      "Inserted document for clockwise_circle_01.csv into MongoDB\n",
      "Processing file: c:\\Users\\Bill\\Desktop\\IoT-Course-AIoT-project\\data\\Clockwise_Circle\\clockwise_circle_02.csv\n",
      "Inserted document for clockwise_circle_02.csv into MongoDB\n",
      "Processing file: c:\\Users\\Bill\\Desktop\\IoT-Course-AIoT-project\\data\\Clockwise_Circle\\clockwise_circle_03.csv\n",
      "Inserted document for clockwise_circle_03.csv into MongoDB\n",
      "Processing file: c:\\Users\\Bill\\Desktop\\IoT-Course-AIoT-project\\data\\Clockwise_Circle\\clockwise_circle_04.csv\n",
      "Inserted document for clockwise_circle_04.csv into MongoDB\n",
      "Processing file: c:\\Users\\Bill\\Desktop\\IoT-Course-AIoT-project\\data\\Clockwise_Circle\\clockwise_circle_05.csv\n",
      "Inserted document for clockwise_circle_05.csv into MongoDB\n",
      "Processing file: c:\\Users\\Bill\\Desktop\\IoT-Course-AIoT-project\\data\\Clockwise_Circle\\clockwise_circle_06.csv\n",
      "Inserted document for clockwise_circle_06.csv into MongoDB\n",
      "Processing file: c:\\Users\\Bill\\Desktop\\IoT-Course-AIoT-project\\data\\Clockwise_Circle\\clockwise_circle_07.csv\n",
      "Inserted document for clockwise_circle_07.csv into MongoDB\n",
      "Processing file: c:\\Users\\Bill\\Desktop\\IoT-Course-AIoT-project\\data\\Clockwise_Circle\\clockwise_circle_08.csv\n",
      "Inserted document for clockwise_circle_08.csv into MongoDB\n",
      "Processing file: c:\\Users\\Bill\\Desktop\\IoT-Course-AIoT-project\\data\\Clockwise_Circle\\clockwise_circle_09.csv\n",
      "Inserted document for clockwise_circle_09.csv into MongoDB\n",
      "Processing file: c:\\Users\\Bill\\Desktop\\IoT-Course-AIoT-project\\data\\Clockwise_Circle\\clockwise_circle_10.csv\n",
      "Inserted document for clockwise_circle_10.csv into MongoDB\n",
      "Files in Counter_Clockwise_Circle: ['counter_clockwise_circle_01.csv', 'counter_clockwise_circle_02.csv', 'counter_clockwise_circle_03.csv', 'counter_clockwise_circle_04.csv', 'counter_clockwise_circle_05.csv', 'counter_clockwise_circle_06.csv', 'counter_clockwise_circle_07.csv', 'counter_clockwise_circle_08.csv', 'counter_clockwise_circle_09.csv', 'counter_clockwise_circle_10.csv']\n",
      "Processing file: c:\\Users\\Bill\\Desktop\\IoT-Course-AIoT-project\\data\\Counter_Clockwise_Circle\\counter_clockwise_circle_01.csv\n",
      "Inserted document for counter_clockwise_circle_01.csv into MongoDB\n",
      "Processing file: c:\\Users\\Bill\\Desktop\\IoT-Course-AIoT-project\\data\\Counter_Clockwise_Circle\\counter_clockwise_circle_02.csv\n",
      "Inserted document for counter_clockwise_circle_02.csv into MongoDB\n",
      "Processing file: c:\\Users\\Bill\\Desktop\\IoT-Course-AIoT-project\\data\\Counter_Clockwise_Circle\\counter_clockwise_circle_03.csv\n",
      "Inserted document for counter_clockwise_circle_03.csv into MongoDB\n",
      "Processing file: c:\\Users\\Bill\\Desktop\\IoT-Course-AIoT-project\\data\\Counter_Clockwise_Circle\\counter_clockwise_circle_04.csv\n",
      "Inserted document for counter_clockwise_circle_04.csv into MongoDB\n",
      "Processing file: c:\\Users\\Bill\\Desktop\\IoT-Course-AIoT-project\\data\\Counter_Clockwise_Circle\\counter_clockwise_circle_05.csv\n",
      "Inserted document for counter_clockwise_circle_05.csv into MongoDB\n",
      "Processing file: c:\\Users\\Bill\\Desktop\\IoT-Course-AIoT-project\\data\\Counter_Clockwise_Circle\\counter_clockwise_circle_06.csv\n",
      "Inserted document for counter_clockwise_circle_06.csv into MongoDB\n",
      "Processing file: c:\\Users\\Bill\\Desktop\\IoT-Course-AIoT-project\\data\\Counter_Clockwise_Circle\\counter_clockwise_circle_07.csv\n",
      "Inserted document for counter_clockwise_circle_07.csv into MongoDB\n",
      "Processing file: c:\\Users\\Bill\\Desktop\\IoT-Course-AIoT-project\\data\\Counter_Clockwise_Circle\\counter_clockwise_circle_08.csv\n",
      "Inserted document for counter_clockwise_circle_08.csv into MongoDB\n",
      "Processing file: c:\\Users\\Bill\\Desktop\\IoT-Course-AIoT-project\\data\\Counter_Clockwise_Circle\\counter_clockwise_circle_09.csv\n",
      "Inserted document for counter_clockwise_circle_09.csv into MongoDB\n",
      "Processing file: c:\\Users\\Bill\\Desktop\\IoT-Course-AIoT-project\\data\\Counter_Clockwise_Circle\\counter_clockwise_circle_10.csv\n",
      "Inserted document for counter_clockwise_circle_10.csv into MongoDB\n",
      "Files in Down: ['down_01.csv', 'down_02.csv', 'down_03.csv', 'down_04.csv', 'down_05.csv', 'down_06.csv', 'down_07.csv', 'down_08.csv', 'down_09.csv', 'down_10.csv']\n",
      "Processing file: c:\\Users\\Bill\\Desktop\\IoT-Course-AIoT-project\\data\\Down\\down_01.csv\n",
      "Inserted document for down_01.csv into MongoDB\n",
      "Processing file: c:\\Users\\Bill\\Desktop\\IoT-Course-AIoT-project\\data\\Down\\down_02.csv\n",
      "Inserted document for down_02.csv into MongoDB\n",
      "Processing file: c:\\Users\\Bill\\Desktop\\IoT-Course-AIoT-project\\data\\Down\\down_03.csv\n",
      "Inserted document for down_03.csv into MongoDB\n",
      "Processing file: c:\\Users\\Bill\\Desktop\\IoT-Course-AIoT-project\\data\\Down\\down_04.csv\n",
      "Inserted document for down_04.csv into MongoDB\n",
      "Processing file: c:\\Users\\Bill\\Desktop\\IoT-Course-AIoT-project\\data\\Down\\down_05.csv\n",
      "Inserted document for down_05.csv into MongoDB\n",
      "Processing file: c:\\Users\\Bill\\Desktop\\IoT-Course-AIoT-project\\data\\Down\\down_06.csv\n",
      "Inserted document for down_06.csv into MongoDB\n",
      "Processing file: c:\\Users\\Bill\\Desktop\\IoT-Course-AIoT-project\\data\\Down\\down_07.csv\n",
      "Inserted document for down_07.csv into MongoDB\n",
      "Processing file: c:\\Users\\Bill\\Desktop\\IoT-Course-AIoT-project\\data\\Down\\down_08.csv\n",
      "Inserted document for down_08.csv into MongoDB\n",
      "Processing file: c:\\Users\\Bill\\Desktop\\IoT-Course-AIoT-project\\data\\Down\\down_09.csv\n",
      "Inserted document for down_09.csv into MongoDB\n",
      "Processing file: c:\\Users\\Bill\\Desktop\\IoT-Course-AIoT-project\\data\\Down\\down_10.csv\n",
      "Inserted document for down_10.csv into MongoDB\n",
      "Files in Left: ['left_01.csv', 'left_02.csv', 'left_03.csv', 'left_04.csv', 'left_05.csv', 'left_06.csv', 'left_07.csv', 'left_08.csv', 'left_09.csv', 'left_10.csv']\n",
      "Processing file: c:\\Users\\Bill\\Desktop\\IoT-Course-AIoT-project\\data\\Left\\left_01.csv\n",
      "Inserted document for left_01.csv into MongoDB\n",
      "Processing file: c:\\Users\\Bill\\Desktop\\IoT-Course-AIoT-project\\data\\Left\\left_02.csv\n",
      "Inserted document for left_02.csv into MongoDB\n",
      "Processing file: c:\\Users\\Bill\\Desktop\\IoT-Course-AIoT-project\\data\\Left\\left_03.csv\n",
      "Inserted document for left_03.csv into MongoDB\n",
      "Processing file: c:\\Users\\Bill\\Desktop\\IoT-Course-AIoT-project\\data\\Left\\left_04.csv\n",
      "Inserted document for left_04.csv into MongoDB\n",
      "Processing file: c:\\Users\\Bill\\Desktop\\IoT-Course-AIoT-project\\data\\Left\\left_05.csv\n",
      "Inserted document for left_05.csv into MongoDB\n",
      "Processing file: c:\\Users\\Bill\\Desktop\\IoT-Course-AIoT-project\\data\\Left\\left_06.csv\n",
      "Inserted document for left_06.csv into MongoDB\n",
      "Processing file: c:\\Users\\Bill\\Desktop\\IoT-Course-AIoT-project\\data\\Left\\left_07.csv\n",
      "Inserted document for left_07.csv into MongoDB\n",
      "Processing file: c:\\Users\\Bill\\Desktop\\IoT-Course-AIoT-project\\data\\Left\\left_08.csv\n",
      "Inserted document for left_08.csv into MongoDB\n",
      "Processing file: c:\\Users\\Bill\\Desktop\\IoT-Course-AIoT-project\\data\\Left\\left_09.csv\n",
      "Inserted document for left_09.csv into MongoDB\n",
      "Processing file: c:\\Users\\Bill\\Desktop\\IoT-Course-AIoT-project\\data\\Left\\left_10.csv\n",
      "Inserted document for left_10.csv into MongoDB\n",
      "Files in Right: ['right_01.csv', 'right_02.csv', 'right_03.csv', 'right_04.csv', 'right_05.csv', 'right_06.csv', 'right_07.csv', 'right_08.csv', 'right_09.csv', 'right_10.csv']\n",
      "Processing file: c:\\Users\\Bill\\Desktop\\IoT-Course-AIoT-project\\data\\Right\\right_01.csv\n",
      "Inserted document for right_01.csv into MongoDB\n",
      "Processing file: c:\\Users\\Bill\\Desktop\\IoT-Course-AIoT-project\\data\\Right\\right_02.csv\n",
      "Inserted document for right_02.csv into MongoDB\n",
      "Processing file: c:\\Users\\Bill\\Desktop\\IoT-Course-AIoT-project\\data\\Right\\right_03.csv\n",
      "Inserted document for right_03.csv into MongoDB\n",
      "Processing file: c:\\Users\\Bill\\Desktop\\IoT-Course-AIoT-project\\data\\Right\\right_04.csv\n",
      "Inserted document for right_04.csv into MongoDB\n",
      "Processing file: c:\\Users\\Bill\\Desktop\\IoT-Course-AIoT-project\\data\\Right\\right_05.csv\n",
      "Inserted document for right_05.csv into MongoDB\n",
      "Processing file: c:\\Users\\Bill\\Desktop\\IoT-Course-AIoT-project\\data\\Right\\right_06.csv\n",
      "Inserted document for right_06.csv into MongoDB\n",
      "Processing file: c:\\Users\\Bill\\Desktop\\IoT-Course-AIoT-project\\data\\Right\\right_07.csv\n",
      "Inserted document for right_07.csv into MongoDB\n",
      "Processing file: c:\\Users\\Bill\\Desktop\\IoT-Course-AIoT-project\\data\\Right\\right_08.csv\n",
      "Inserted document for right_08.csv into MongoDB\n",
      "Processing file: c:\\Users\\Bill\\Desktop\\IoT-Course-AIoT-project\\data\\Right\\right_09.csv\n",
      "Inserted document for right_09.csv into MongoDB\n",
      "Processing file: c:\\Users\\Bill\\Desktop\\IoT-Course-AIoT-project\\data\\Right\\right_10.csv\n",
      "Inserted document for right_10.csv into MongoDB\n",
      "Files in Up: ['up_01.csv', 'up_02.csv', 'up_03.csv', 'up_04.csv', 'up_05.csv', 'up_06.csv', 'up_07.csv', 'up_08.csv', 'up_09.csv', 'up_10.csv']\n",
      "Processing file: c:\\Users\\Bill\\Desktop\\IoT-Course-AIoT-project\\data\\Up\\up_01.csv\n",
      "Inserted document for up_01.csv into MongoDB\n",
      "Processing file: c:\\Users\\Bill\\Desktop\\IoT-Course-AIoT-project\\data\\Up\\up_02.csv\n",
      "Inserted document for up_02.csv into MongoDB\n",
      "Processing file: c:\\Users\\Bill\\Desktop\\IoT-Course-AIoT-project\\data\\Up\\up_03.csv\n",
      "Inserted document for up_03.csv into MongoDB\n",
      "Processing file: c:\\Users\\Bill\\Desktop\\IoT-Course-AIoT-project\\data\\Up\\up_04.csv\n",
      "Inserted document for up_04.csv into MongoDB\n",
      "Processing file: c:\\Users\\Bill\\Desktop\\IoT-Course-AIoT-project\\data\\Up\\up_05.csv\n",
      "Inserted document for up_05.csv into MongoDB\n",
      "Processing file: c:\\Users\\Bill\\Desktop\\IoT-Course-AIoT-project\\data\\Up\\up_06.csv\n",
      "Inserted document for up_06.csv into MongoDB\n",
      "Processing file: c:\\Users\\Bill\\Desktop\\IoT-Course-AIoT-project\\data\\Up\\up_07.csv\n",
      "Inserted document for up_07.csv into MongoDB\n",
      "Processing file: c:\\Users\\Bill\\Desktop\\IoT-Course-AIoT-project\\data\\Up\\up_08.csv\n",
      "Inserted document for up_08.csv into MongoDB\n",
      "Processing file: c:\\Users\\Bill\\Desktop\\IoT-Course-AIoT-project\\data\\Up\\up_09.csv\n",
      "Inserted document for up_09.csv into MongoDB\n",
      "Processing file: c:\\Users\\Bill\\Desktop\\IoT-Course-AIoT-project\\data\\Up\\up_10.csv\n",
      "Inserted document for up_10.csv into MongoDB\n",
      "Files in Wrist_turn_left: ['wrist_turn_left_01.csv', 'wrist_turn_left_02.csv', 'wrist_turn_left_03.csv', 'wrist_turn_left_04.csv', 'wrist_turn_left_05.csv', 'wrist_turn_left_06.csv', 'wrist_turn_left_07.csv', 'wrist_turn_left_08.csv', 'wrist_turn_left_09.csv', 'wrist_turn_left_10.csv']\n",
      "Processing file: c:\\Users\\Bill\\Desktop\\IoT-Course-AIoT-project\\data\\Wrist_turn_left\\wrist_turn_left_01.csv\n",
      "Inserted document for wrist_turn_left_01.csv into MongoDB\n",
      "Processing file: c:\\Users\\Bill\\Desktop\\IoT-Course-AIoT-project\\data\\Wrist_turn_left\\wrist_turn_left_02.csv\n",
      "Inserted document for wrist_turn_left_02.csv into MongoDB\n",
      "Processing file: c:\\Users\\Bill\\Desktop\\IoT-Course-AIoT-project\\data\\Wrist_turn_left\\wrist_turn_left_03.csv\n",
      "Inserted document for wrist_turn_left_03.csv into MongoDB\n",
      "Processing file: c:\\Users\\Bill\\Desktop\\IoT-Course-AIoT-project\\data\\Wrist_turn_left\\wrist_turn_left_04.csv\n",
      "Inserted document for wrist_turn_left_04.csv into MongoDB\n",
      "Processing file: c:\\Users\\Bill\\Desktop\\IoT-Course-AIoT-project\\data\\Wrist_turn_left\\wrist_turn_left_05.csv\n",
      "Inserted document for wrist_turn_left_05.csv into MongoDB\n",
      "Processing file: c:\\Users\\Bill\\Desktop\\IoT-Course-AIoT-project\\data\\Wrist_turn_left\\wrist_turn_left_06.csv\n",
      "Inserted document for wrist_turn_left_06.csv into MongoDB\n",
      "Processing file: c:\\Users\\Bill\\Desktop\\IoT-Course-AIoT-project\\data\\Wrist_turn_left\\wrist_turn_left_07.csv\n",
      "Inserted document for wrist_turn_left_07.csv into MongoDB\n",
      "Processing file: c:\\Users\\Bill\\Desktop\\IoT-Course-AIoT-project\\data\\Wrist_turn_left\\wrist_turn_left_08.csv\n",
      "Inserted document for wrist_turn_left_08.csv into MongoDB\n",
      "Processing file: c:\\Users\\Bill\\Desktop\\IoT-Course-AIoT-project\\data\\Wrist_turn_left\\wrist_turn_left_09.csv\n",
      "Inserted document for wrist_turn_left_09.csv into MongoDB\n",
      "Processing file: c:\\Users\\Bill\\Desktop\\IoT-Course-AIoT-project\\data\\Wrist_turn_left\\wrist_turn_left_10.csv\n",
      "Inserted document for wrist_turn_left_10.csv into MongoDB\n",
      "Files in Wrist_turn_right: ['wrist_turn_right_01.csv', 'wrist_turn_right_02.csv', 'wrist_turn_right_03.csv', 'wrist_turn_right_04.csv', 'wrist_turn_right_05.csv', 'wrist_turn_right_06.csv', 'wrist_turn_right_07.csv', 'wrist_turn_right_08.csv', 'wrist_turn_right_09.csv', 'wrist_turn_right_10.csv']\n",
      "Processing file: c:\\Users\\Bill\\Desktop\\IoT-Course-AIoT-project\\data\\Wrist_turn_right\\wrist_turn_right_01.csv\n",
      "Inserted document for wrist_turn_right_01.csv into MongoDB\n",
      "Processing file: c:\\Users\\Bill\\Desktop\\IoT-Course-AIoT-project\\data\\Wrist_turn_right\\wrist_turn_right_02.csv\n",
      "Inserted document for wrist_turn_right_02.csv into MongoDB\n",
      "Processing file: c:\\Users\\Bill\\Desktop\\IoT-Course-AIoT-project\\data\\Wrist_turn_right\\wrist_turn_right_03.csv\n",
      "Inserted document for wrist_turn_right_03.csv into MongoDB\n",
      "Processing file: c:\\Users\\Bill\\Desktop\\IoT-Course-AIoT-project\\data\\Wrist_turn_right\\wrist_turn_right_04.csv\n",
      "Inserted document for wrist_turn_right_04.csv into MongoDB\n",
      "Processing file: c:\\Users\\Bill\\Desktop\\IoT-Course-AIoT-project\\data\\Wrist_turn_right\\wrist_turn_right_05.csv\n",
      "Inserted document for wrist_turn_right_05.csv into MongoDB\n",
      "Processing file: c:\\Users\\Bill\\Desktop\\IoT-Course-AIoT-project\\data\\Wrist_turn_right\\wrist_turn_right_06.csv\n",
      "Inserted document for wrist_turn_right_06.csv into MongoDB\n",
      "Processing file: c:\\Users\\Bill\\Desktop\\IoT-Course-AIoT-project\\data\\Wrist_turn_right\\wrist_turn_right_07.csv\n",
      "Inserted document for wrist_turn_right_07.csv into MongoDB\n",
      "Processing file: c:\\Users\\Bill\\Desktop\\IoT-Course-AIoT-project\\data\\Wrist_turn_right\\wrist_turn_right_08.csv\n",
      "Inserted document for wrist_turn_right_08.csv into MongoDB\n",
      "Processing file: c:\\Users\\Bill\\Desktop\\IoT-Course-AIoT-project\\data\\Wrist_turn_right\\wrist_turn_right_09.csv\n",
      "Inserted document for wrist_turn_right_09.csv into MongoDB\n",
      "Processing file: c:\\Users\\Bill\\Desktop\\IoT-Course-AIoT-project\\data\\Wrist_turn_right\\wrist_turn_right_10.csv\n",
      "Inserted document for wrist_turn_right_10.csv into MongoDB\n"
     ]
    }
   ],
   "source": [
    "for class_folder in classes_folders_list:\n",
    "    folder_path = os.path.join(data_path, class_folder)\n",
    "    \n",
    "    # Step 5: List all files in the class folder\n",
    "    files_in_folder = [f for f in os.listdir(folder_path) if os.path.isfile(os.path.join(folder_path, f))]\n",
    "    print(f\"Files in {class_folder}: {files_in_folder}\")\n",
    "\n",
    "    # Step 6: Loop through each file in the class folder\n",
    "    for file in files_in_folder:\n",
    "        if file.endswith('.csv'):\n",
    "            file_path = os.path.join(folder_path, file)\n",
    "            print(f\"Processing file: {file_path}\")\n",
    "            \n",
    "            # Step 7: Read the CSV file into a DataFrame\n",
    "            df = pd.read_csv(file_path, delimiter=';')\n",
    "\n",
    "            # Assuming the CSV has 'acc_x', 'acc_y', 'acc_z' columns\n",
    "            acc_x = df['acc_x'].tolist()\n",
    "            acc_y = df['acc_y'].tolist()\n",
    "            acc_z = df['acc_z'].tolist()\n",
    "            gyr_x = df['gyr_x'].tolist()\n",
    "            gyr_y = df['gyr_y'].tolist()\n",
    "            gyr_z = df['gyr_z'].tolist()\n",
    "\n",
    "\n",
    "            # Step 8: Structure the data\n",
    "            document = {\n",
    "                \"data\": {\n",
    "                    \"acc_x\": acc_x,\n",
    "                    \"acc_y\": acc_y,\n",
    "                    \"acc_z\": acc_z,\n",
    "                    \"gyr_x\": gyr_x,\n",
    "                    \"gyr_y\": gyr_y,\n",
    "                    \"gyr_z\": gyr_z\n",
    "                },\n",
    "                \"label\": file,  # Use the class folder name as the label\n",
    "                \"datetime\": datetime.now()  # Add the current timestamp\n",
    "            }\n",
    "\n",
    "            # Step 9: Insert the structured data into MongoDB\n",
    "            col.insert_one(document)\n",
    "            print(f\"Inserted document for {file} into MongoDB\")\n",
    "\n",
    "# Close the MongoDB connection\n",
    "client.close()"
   ]
  }
 ],
 "metadata": {
  "kernelspec": {
   "display_name": "Python 3 (ipykernel)",
   "language": "python",
   "name": "python3"
  },
  "language_info": {
   "codemirror_mode": {
    "name": "ipython",
    "version": 3
   },
   "file_extension": ".py",
   "mimetype": "text/x-python",
   "name": "python",
   "nbconvert_exporter": "python",
   "pygments_lexer": "ipython3",
   "version": "3.11.5"
  }
 },
 "nbformat": 4,
 "nbformat_minor": 5
}
